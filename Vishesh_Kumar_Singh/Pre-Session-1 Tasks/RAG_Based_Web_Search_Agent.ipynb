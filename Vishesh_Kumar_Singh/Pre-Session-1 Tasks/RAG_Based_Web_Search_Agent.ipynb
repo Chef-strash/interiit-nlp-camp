{
 "cells": [
  {
   "cell_type": "markdown",
   "metadata": {},
   "source": [
    "# Task 1: Implement any 3 web search agents with error handling and fallbacks"
   ]
  },
  {
   "cell_type": "code",
   "execution_count": 1,
   "metadata": {},
   "outputs": [
    {
     "data": {
      "text/plain": [
       "True"
      ]
     },
     "execution_count": 1,
     "metadata": {},
     "output_type": "execute_result"
    }
   ],
   "source": [
    "import dotenv\n",
    "dotenv.load_dotenv()"
   ]
  },
  {
   "cell_type": "code",
   "execution_count": 2,
   "metadata": {},
   "outputs": [],
   "source": [
    "# Importing Libraries\n",
    "\n",
    "from tavily import TavilyClient\n",
    "import requests\n",
    "import os\n",
    "from bs4 import BeautifulSoup\n",
    "from langchain.chat_models import init_chat_model\n",
    "from langchain_core.messages import HumanMessage\n",
    "from langgraph.checkpoint.memory import MemorySaver\n",
    "from langgraph.graph import START, MessagesState, StateGraph\n",
    "from langchain_core.prompts import ChatPromptTemplate, MessagesPlaceholder\n",
    "from langchain_huggingface import HuggingFaceEmbeddings\n",
    "from langchain_community.vectorstores import FAISS\n",
    "from langchain_text_splitters import RecursiveCharacterTextSplitter\n",
    "from langchain.schema import Document"
   ]
  },
  {
   "cell_type": "markdown",
   "metadata": {},
   "source": [
    "## Web Search Agents\n",
    "\n",
    "I used 3 websearch agents- Tavily, Serper and Brave Search."
   ]
  },
  {
   "cell_type": "markdown",
   "metadata": {},
   "source": [
    "### Agent 1: Tavily"
   ]
  },
  {
   "cell_type": "code",
   "execution_count": 3,
   "metadata": {},
   "outputs": [
    {
     "name": "stdout",
     "output_type": "stream",
     "text": [
      "[{'url': 'https://www.ibm.com/think/topics/retrieval-augmented-generation', 'title': 'What is RAG (Retrieval Augmented Generation)?', 'content': 'Retrieval augmented generation (RAG) is an architecture for optimizing the performance of an artificial intelligence (AI) model by connecting it with external knowledge bases. RAG allows generative AI models to access additional external knowledge bases, such as internal organizational data, scholarly journals and specialized datasets. RAG systems connect models with supplemental external data in real-time and incorporate up-to-date information into generated responses. By combining generative AI with retrieval systems, RAG models can retrieve and integrate information from multiple data sources in response to complex queries. RAG AI systems plug models into internal data to equip customer support chatbots with the latest knowledge about a company’s products, services and policies. * The **generator**: A generative AI model that creates an output based on the user query and retrieved data.', 'score': 0.9322132, 'raw_content': None}, {'url': 'https://research.ibm.com/blog/retrieval-augmented-generation-RAG', 'title': 'What is retrieval-augmented generation (RAG)?', 'content': \"RAG is an AI framework for retrieving facts from an external knowledge base to ground large language models (LLMs) on the most accurate, up-to-date information and to give users insight into LLMs' generative process. Retrieval-augmented generation (RAG) is an AI framework for improving the quality of LLM-generated responses by grounding the model on external sources of knowledge to supplement the LLM’s internal representation of information. RAG implementation in an LLM-based question-answering system has two main benefits: It ensures that the model has access to the most current, reliable facts, and that users have access to the model’s sources, ensuring that its claims can be checked for accuracy and ultimately trusted. Simply upload the latest documents or policies, and the model retrieves the information in open-book mode to answer the question.\", 'score': 0.92763275, 'raw_content': None}, {'url': 'https://www.databricks.com/glossary/retrieval-augmented-generation-rag', 'title': 'What is Retrieval Augmented Generation (RAG)?', 'content': 'Retrieval augmented generation, or RAG, is an architectural approach that can improve the efficacy of large language model (LLM) applications by leveraging custom data. This is called retrieval augmented generation (RAG), as you would retrieve the relevant data and use it as augmented context for the LLM. With RAG architecture, organizations can deploy any LLM model and augment it to return relevant results for their organization by giving it a small amount of their data without the costs and time of fine-tuning or pretraining the model. * Using MLflow AI Gateway and Llama 2 to Build Generative AI Apps (Achieve greater accuracy using retrieval augmented generation (RAG) with your own data) Contact Databricks to schedule a demo and talk to someone about your LLM and retrieval augmented generation (RAG) projects', 'score': 0.8974172, 'raw_content': None}, {'url': 'https://www.datacamp.com/blog/what-is-retrieval-augmented-generation-rag', 'title': 'What is Retrieval Augmented Generation (RAG)?', 'content': 'Learn how Retrieval Augmented Generation (RAG) enhances large language models by integrating external data sources. Retrieval Augmented Generation (RAG) is a technique that enhances LLMs by integrating them with external data sources. RAG addresses these issues by allowing models to retrieve up-to-date and domain-specific information from structured and unstructured data sources, such as databases, documentation, and APIs. Integrate external data with LLMs using Retrieval Augmented Generation (RAG) and LangChain. RAG is a technique that combines the capabilities of pre-trained large language models (LLMs) with external data sources, allowing for more nuanced and accurate AI responses. RAG involves several steps: data collection, data chunking, document embeddings, handling user queries, and generating responses using an LLM.', 'score': 0.8839694, 'raw_content': None}, {'url': 'https://en.wikipedia.org/wiki/Retrieval-augmented_generation', 'title': 'Retrieval-augmented generation', 'content': '**Retrieval-augmented generation** (**RAG**) is a technique that enables large language models (LLMs) to retrieve and incorporate new information. RAG improves large language models (LLMs) by incorporating information retrieval before generating responses. Retrieval-augmented generation (RAG) enhances large language models (LLMs) by incorporating an information-retrieval mechanism that allows models to access and utilize additional data beyond their original training set. When a user submits a query, RAG uses a document retriever to search for relevant content from available sources before incorporating the retrieved information into the model\\'s response (\"retrieval\")._Ars Technica_ notes that \"when new information becomes available, rather than having to retrain the model, all that’s needed is to augment the model’s external knowledge base with the updated information\" (\"augmentation\").', 'score': 0.8825193, 'raw_content': None}]\n"
     ]
    }
   ],
   "source": [
    "# Tavily Search Function\n",
    "\n",
    "def Tavily(query):\n",
    "    try: \n",
    "        tavily_client = TavilyClient()\n",
    "        response = tavily_client.search(query, limit=5)['results']\n",
    "        return response\n",
    "\n",
    "    except Exception as e:\n",
    "        # print(\"Tavily failed with Error:\", e)\n",
    "        return f\"ERROR\"\n",
    "    \n",
    "print(Tavily(\"What is RAG?\"))"
   ]
  },
  {
   "cell_type": "code",
   "execution_count": 4,
   "metadata": {},
   "outputs": [
    {
     "name": "stdout",
     "output_type": "stream",
     "text": [
      "ERROR\n"
     ]
    }
   ],
   "source": [
    "# Made a faulty function to test fallback\n",
    "\n",
    "def Tavily_Faulty(query):\n",
    "    try: \n",
    "        tavily_client = TavilyClient(api_key=\"happyindependenceday\")\n",
    "        response = tavily_client.search(query, limit=5)['results']\n",
    "        return response\n",
    "\n",
    "    except Exception as e:\n",
    "        # print(f\"Tavily failed with Error: {e}\")\n",
    "        return f\"ERROR\"\n",
    "    \n",
    "print(Tavily_Faulty(\"What is RAG?\"))"
   ]
  },
  {
   "cell_type": "markdown",
   "metadata": {},
   "source": [
    "### Agent 2: Serper"
   ]
  },
  {
   "cell_type": "code",
   "execution_count": 5,
   "metadata": {},
   "outputs": [
    {
     "name": "stdout",
     "output_type": "stream",
     "text": [
      "[{'url': 'https://aws.amazon.com/what-is/retrieval-augmented-generation/', 'title': 'What is RAG? - Retrieval-Augmented Generation AI Explained - AWS', 'content': 'RAG is the process of optimizing the output of a large language model, so it references an authoritative knowledge base outside of its training data sources ...'}, {'url': 'https://cloud.google.com/use-cases/retrieval-augmented-generation', 'title': 'What is Retrieval-Augmented Generation (RAG)? - Google Cloud', 'content': 'RAG (Retrieval-Augmented Generation) is an AI framework that combines the strengths of traditional information retrieval systems (such as search and databases)'}, {'url': 'https://blogs.nvidia.com/blog/what-is-retrieval-augmented-generation/', 'title': 'What Is Retrieval-Augmented Generation aka RAG - NVIDIA Blog', 'content': 'Retrieval-augmented generation (RAG) is a technique for enhancing the accuracy and reliability of generative AI models with facts fetched ...'}]\n"
     ]
    }
   ],
   "source": [
    "# Serper Search Function\n",
    "\n",
    "def Serper(query):\n",
    "    api_key = os.getenv(\"SERPER_API_KEY\")\n",
    "    url = \"https://google.serper.dev/search\"\n",
    "\n",
    "    headers = {\n",
    "        \"X-API-KEY\": api_key,\n",
    "        \"Content-Type\": \"application/json\"\n",
    "    }\n",
    "\n",
    "    payload = {\n",
    "        \"q\": query,\n",
    "        \"count\": 5\n",
    "    }\n",
    "\n",
    "    try:\n",
    "        response = requests.post(url, headers=headers, json=payload, timeout=10)\n",
    "        response.raise_for_status()\n",
    "        results = response.json()\n",
    "        \n",
    "        output = []\n",
    "        for item in results.get(\"organic\", [])[:3]:\n",
    "            output.append({\n",
    "                \"url\": item.get(\"link\"),\n",
    "                \"title\": item.get(\"title\"),\n",
    "                \"content\": item.get(\"snippet\")\n",
    "            })\n",
    "        if output:\n",
    "            return output\n",
    "        else:\n",
    "            # print(\"Serper failed with Error : No Results Found\")\n",
    "            return(\"ERROR\")\n",
    "\n",
    "    except Exception as e:\n",
    "        # print(f\"Serper failed with Error: {e}\")\n",
    "        return f\"ERROR\"\n",
    "\n",
    "print(Serper(\"What is RAG\"))"
   ]
  },
  {
   "cell_type": "markdown",
   "metadata": {},
   "source": [
    "### Agent 3: Brave Search"
   ]
  },
  {
   "cell_type": "code",
   "execution_count": 6,
   "metadata": {},
   "outputs": [
    {
     "name": "stdout",
     "output_type": "stream",
     "text": [
      "[{'url': 'https://aws.amazon.com/what-is/retrieval-augmented-generation/', 'title': 'What is RAG? - Retrieval-Augmented Generation AI Explained - AWS', 'content': 'How can AWS support your Retrieval-Augmented Generation requirements? Retrieval-Augmented Generation (RAG) is <strong>the process of optimizing the output of a large language model</strong>, so it references an authoritative knowledge base outside of its training data sources before generating a response.'}, {'url': 'https://cloud.google.com/use-cases/retrieval-augmented-generation', 'title': 'What is Retrieval-Augmented Generation (RAG)? | Google Cloud', 'content': 'RAG (Retrieval-Augmented Generation) is <strong>an AI framework that combines the strengths of traditional information retrieval systems (such as search and databases) with the capabilities of generative large language models (LLMs).</strong> By combining your data and world knowledge with LLM language skills, ...'}, {'url': 'https://blogs.nvidia.com/blog/what-is-retrieval-augmented-generation/', 'title': 'What Is Retrieval-Augmented Generation aka RAG | NVIDIA Blogs', 'content': 'The court clerk of AI is a process called <strong>retrieval-augmented generation</strong>, or RAG for short.'}, {'url': 'https://en.wikipedia.org/wiki/Retrieval-augmented_generation', 'title': 'Retrieval-augmented generation - Wikipedia', 'content': 'Retrieval-augmented generation (RAG) is <strong>a technique that enables large language models (LLMs) to retrieve and incorporate new information</strong>. With RAG, LLMs do not respond to user queries until they refer to a specified set of documents. These documents supplement information from the LLM&#x27;s ...'}, {'url': 'https://www.ibm.com/think/topics/retrieval-augmented-generation', 'title': 'What is RAG (Retrieval Augmented Generation)? | IBM', 'content': 'Retrieval augmented generation (<strong>RAG</strong>) <strong>is</strong> an architecture for optimizing the performance of an artificial intelligence (AI) model by connecting it with external knowledge bases.'}]\n"
     ]
    }
   ],
   "source": [
    "# Brave Search Function\n",
    "\n",
    "def Brave(query):\n",
    "    api_key = os.getenv(\"BRAVE_API_KEY\")\n",
    "    url = \"https://api.search.brave.com/res/v1/web/search\"\n",
    "\n",
    "    headers = {\n",
    "        \"Accept\": \"application/json\",\n",
    "        \"X-Subscription-Token\": api_key\n",
    "    }\n",
    "\n",
    "    params = {\n",
    "        \"q\": query,\n",
    "        \"count\": 5\n",
    "    }\n",
    "\n",
    "    try:\n",
    "        response = requests.get(url, headers=headers, params=params, timeout=10)\n",
    "        response.raise_for_status()\n",
    "        data = response.json()\n",
    "\n",
    "        output = []\n",
    "        for item in data.get(\"web\", {}).get(\"results\", []):\n",
    "            output.append({\n",
    "                \"url\": item.get(\"url\"),\n",
    "                \"title\": item.get(\"title\"),\n",
    "                \"content\": item.get(\"description\")\n",
    "            })\n",
    "\n",
    "        if output:\n",
    "            return output\n",
    "        else:\n",
    "            # print(\"Brave failed with Error : No Results Found\")\n",
    "            return(\"ERROR\")\n",
    "        \n",
    "    except Exception as e:\n",
    "        # print(f\"Brave failed with Error: {e}\")\n",
    "        return f\"ERROR\"\n",
    "\n",
    "\n",
    "print(Brave(\"What is RAG\"))"
   ]
  },
  {
   "cell_type": "markdown",
   "metadata": {},
   "source": [
    "### Final Web Search Function"
   ]
  },
  {
   "cell_type": "code",
   "execution_count": 7,
   "metadata": {},
   "outputs": [],
   "source": [
    "# Final Web-Search Function+\n",
    "def WebSearch(query):\n",
    "    tavily_results = Tavily(query)\n",
    "    if tavily_results == \"ERROR\":\n",
    "        brave_results = Brave(query)\n",
    "        if brave_results == \"ERROR\":\n",
    "            serper_results = Serper(query)\n",
    "            if serper_results == \"ERROR\":\n",
    "                return \"ERROR\"\n",
    "            return serper_results\n",
    "        else:\n",
    "            return brave_results\n",
    "    else:\n",
    "        return tavily_results"
   ]
  },
  {
   "cell_type": "code",
   "execution_count": 8,
   "metadata": {},
   "outputs": [
    {
     "name": "stdout",
     "output_type": "stream",
     "text": [
      "{'url': 'https://www.ibm.com/think/topics/retrieval-augmented-generation', 'title': 'What is RAG (Retrieval Augmented Generation)?', 'content': 'Retrieval augmented generation (RAG) is an architecture for optimizing the performance of an artificial intelligence (AI) model by connecting it with external knowledge bases. RAG allows generative AI models to access additional external knowledge bases, such as internal organizational data, scholarly journals and specialized datasets. RAG systems connect models with supplemental external data in real-time and incorporate up-to-date information into generated responses. By combining generative AI with retrieval systems, RAG models can retrieve and integrate information from multiple data sources in response to complex queries. RAG AI systems plug models into internal data to equip customer support chatbots with the latest knowledge about a company’s products, services and policies. * The **generator**: A generative AI model that creates an output based on the user query and retrieved data.', 'score': 0.9322132, 'raw_content': None}\n",
      "{'url': 'https://research.ibm.com/blog/retrieval-augmented-generation-RAG', 'title': 'What is retrieval-augmented generation (RAG)?', 'content': \"RAG is an AI framework for retrieving facts from an external knowledge base to ground large language models (LLMs) on the most accurate, up-to-date information and to give users insight into LLMs' generative process. Retrieval-augmented generation (RAG) is an AI framework for improving the quality of LLM-generated responses by grounding the model on external sources of knowledge to supplement the LLM’s internal representation of information. RAG implementation in an LLM-based question-answering system has two main benefits: It ensures that the model has access to the most current, reliable facts, and that users have access to the model’s sources, ensuring that its claims can be checked for accuracy and ultimately trusted. Simply upload the latest documents or policies, and the model retrieves the information in open-book mode to answer the question.\", 'score': 0.92763275, 'raw_content': None}\n",
      "{'url': 'https://www.databricks.com/glossary/retrieval-augmented-generation-rag', 'title': 'What is Retrieval Augmented Generation (RAG)?', 'content': 'Retrieval augmented generation, or RAG, is an architectural approach that can improve the efficacy of large language model (LLM) applications by leveraging custom data. This is called retrieval augmented generation (RAG), as you would retrieve the relevant data and use it as augmented context for the LLM. With RAG architecture, organizations can deploy any LLM model and augment it to return relevant results for their organization by giving it a small amount of their data without the costs and time of fine-tuning or pretraining the model. * Using MLflow AI Gateway and Llama 2 to Build Generative AI Apps (Achieve greater accuracy using retrieval augmented generation (RAG) with your own data) Contact Databricks to schedule a demo and talk to someone about your LLM and retrieval augmented generation (RAG) projects', 'score': 0.8974172, 'raw_content': None}\n",
      "{'url': 'https://www.datacamp.com/blog/what-is-retrieval-augmented-generation-rag', 'title': 'What is Retrieval Augmented Generation (RAG)?', 'content': 'Learn how Retrieval Augmented Generation (RAG) enhances large language models by integrating external data sources. Retrieval Augmented Generation (RAG) is a technique that enhances LLMs by integrating them with external data sources. RAG addresses these issues by allowing models to retrieve up-to-date and domain-specific information from structured and unstructured data sources, such as databases, documentation, and APIs. Integrate external data with LLMs using Retrieval Augmented Generation (RAG) and LangChain. RAG is a technique that combines the capabilities of pre-trained large language models (LLMs) with external data sources, allowing for more nuanced and accurate AI responses. RAG involves several steps: data collection, data chunking, document embeddings, handling user queries, and generating responses using an LLM.', 'score': 0.8839694, 'raw_content': None}\n",
      "{'url': 'https://en.wikipedia.org/wiki/Retrieval-augmented_generation', 'title': 'Retrieval-augmented generation', 'content': '**Retrieval-augmented generation** (**RAG**) is a technique that enables large language models (LLMs) to retrieve and incorporate new information. RAG improves large language models (LLMs) by incorporating information retrieval before generating responses. Retrieval-augmented generation (RAG) enhances large language models (LLMs) by incorporating an information-retrieval mechanism that allows models to access and utilize additional data beyond their original training set. When a user submits a query, RAG uses a document retriever to search for relevant content from available sources before incorporating the retrieved information into the model\\'s response (\"retrieval\")._Ars Technica_ notes that \"when new information becomes available, rather than having to retrain the model, all that’s needed is to augment the model’s external knowledge base with the updated information\" (\"augmentation\").', 'score': 0.8825193, 'raw_content': None}\n"
     ]
    }
   ],
   "source": [
    "# Example usage of the WebSearch function\n",
    "results=WebSearch(\"What is RAG?\")\n",
    "for result in results:\n",
    "    print(result)"
   ]
  },
  {
   "cell_type": "markdown",
   "metadata": {},
   "source": [
    "# Task 2: To implement web scrapping with RAG"
   ]
  },
  {
   "cell_type": "markdown",
   "metadata": {},
   "source": [
    "## Complete Website Scrapping"
   ]
  },
  {
   "cell_type": "code",
   "execution_count": 9,
   "metadata": {},
   "outputs": [],
   "source": [
    "# Scraping Function using BeautifulSoup\n",
    "def scrape_page(url):\n",
    "    try:\n",
    "        response = requests.get(url, timeout=10, headers={\"User-Agent\": \"Mozilla/5.0\"})\n",
    "        response.raise_for_status()\n",
    "        \n",
    "        soup = BeautifulSoup(response.text, \"html.parser\")\n",
    "\n",
    "        paragraphs = [p.get_text() for p in soup.find_all(\"p\")]\n",
    "        text = \"\\n\".join(paragraphs)\n",
    "        \n",
    "        return text if text.strip() else \"ERROR\"\n",
    "    except Exception as e:\n",
    "        return \"ERROR\""
   ]
  },
  {
   "cell_type": "code",
   "execution_count": 10,
   "metadata": {},
   "outputs": [],
   "source": [
    "# Function to process web search results and scrape content\n",
    "def web_results(results):\n",
    "    if results == \"ERROR\":\n",
    "        return \"ERROR\"\n",
    "    \n",
    "    scraped_results = []\n",
    "    for result in results:\n",
    "        if result == \"ERROR\":\n",
    "            continue\n",
    "        url=result['url']\n",
    "        if url:\n",
    "            scraped_text = scrape_page(url)\n",
    "            if scraped_text != \"ERROR\":\n",
    "                doc=Document(page_content=scraped_text, metadata={\"source\": url})\n",
    "                scraped_results.append(doc)\n",
    "    return scraped_results if scraped_results else \"ERROR\""
   ]
  },
  {
   "cell_type": "markdown",
   "metadata": {},
   "source": [
    "## RAG Implementation"
   ]
  },
  {
   "cell_type": "code",
   "execution_count": 11,
   "metadata": {},
   "outputs": [
    {
     "name": "stderr",
     "output_type": "stream",
     "text": [
      "/home/vishesh/anaconda3/envs/langchain/lib/python3.12/site-packages/torch/cuda/__init__.py:174: UserWarning: CUDA initialization: CUDA unknown error - this may be due to an incorrectly set up environment, e.g. changing env variable CUDA_VISIBLE_DEVICES after program start. Setting the available devices to be zero. (Triggered internally at /pytorch/c10/cuda/CUDAFunctions.cpp:109.)\n",
      "  return torch._C._cuda_getDeviceCount() > 0\n"
     ]
    }
   ],
   "source": [
    "embed_model = HuggingFaceEmbeddings(model_name=\"sentence-transformers/all-MiniLM-L6-v2\")"
   ]
  },
  {
   "cell_type": "code",
   "execution_count": 12,
   "metadata": {},
   "outputs": [],
   "source": [
    "def RAG(query):\n",
    "    results = WebSearch(query)\n",
    "    scraped_docs = web_results(results)\n",
    "    if scraped_docs == \"ERROR\":\n",
    "        return \"ERROR: Failed to scrape web results\"\n",
    "\n",
    "    print(\"Encoding text...\")\n",
    "    text_splitter = RecursiveCharacterTextSplitter(chunk_size=500, chunk_overlap=100)\n",
    "    all_splits = text_splitter.split_documents(scraped_docs)\n",
    "    texts = [doc.page_content for doc in all_splits]\n",
    "    vectorstore = FAISS.from_texts(texts, embed_model)\n",
    "\n",
    "    print(\"Retrieving Relevant Information...\")\n",
    "    retriever = vectorstore.as_retriever(search_kwargs={\"k\": 5})\n",
    "    \n",
    "    relevant_docs = retriever.invoke(query)\n",
    "    context = \"\\n\\n\".join([doc.page_content for doc in relevant_docs])\n",
    "\n",
    "    return context"
   ]
  },
  {
   "cell_type": "code",
   "execution_count": 13,
   "metadata": {},
   "outputs": [
    {
     "name": "stdout",
     "output_type": "stream",
     "text": [
      "Encoding text...\n",
      "Retrieving Relevant Information...\n",
      "Harry Potter: The Story That Changed the World\n",
      "\n",
      "all about a young boy called Harry Potter, who is born into a magical world of\n",
      "wizards and witches however Lord Voldemort, the villain of the books, heard of\n",
      "a prophecy where Harry was linked in. Voldemort being scared of death, set out\n",
      "to kill Harry so he would no longer be in any danger. However, this backfires\n",
      "terribly as both of Harry's parents are killed and when Voldemort tries to kill\n",
      "Harry his powers are destroyed leaving Harry with no more than a lightning\n",
      "\n",
      "Harry discovers that not only is he a wizard, but he is a famous one. He meets two best friends, Ron Weasley and Hermione Granger, and makes his first enemy, Draco Malfoy. At Hogwarts the three friends are all placed into the Gryffindor house. Harry has a knack for the school sport, Quidditch, and is recruited onto the Gryffindor team as its star Seeker.\n",
      "\n",
      "Harry discovers that not only is he a wizard, but he is a famous one. He meets two best friends, Ron Weasley and Hermione Granger, and makes his first enemy, Draco Malfoy. At Hogwarts the three friends are all placed into the Gryffindor house. Harry has a knack for the school sport, Quidditch, and is recruited onto the Gryffindor team as its star Seeker.\n",
      "\n",
      "Our editors will review what you’ve submitted and determine whether to revise the article.\n",
      "Harry Potter,  fictional character, a boy wizard created by British author J.K. Rowling. His coming-of-age exploits are the subject of seven enormously popular novels (1997–2007), which were adapted into eight films (2001–11); a play and a book of its script appeared in 2016.\n"
     ]
    }
   ],
   "source": [
    "print(RAG(\"Who is harry potter and what is the storyline of it?\"))"
   ]
  },
  {
   "cell_type": "markdown",
   "metadata": {},
   "source": [
    "## Building Agent"
   ]
  },
  {
   "cell_type": "code",
   "execution_count": 14,
   "metadata": {},
   "outputs": [],
   "source": [
    "\n",
    "prompt_template_main = ChatPromptTemplate.from_messages(\n",
    "    [\n",
    "        (\n",
    "            \"system\",\n",
    "            \"You talk like a Philosophy Proffesor who tries to explain evrything intutively to your students rather than just throwing techinal terms. Answer all the questions to the best of your ability, but also make sure to not give any information you are not sure about.\",\n",
    "        ),\n",
    "        MessagesPlaceholder(variable_name=\"messages\"),\n",
    "    ]\n",
    ")\n",
    "\n",
    "prompt_template_refine = ChatPromptTemplate.from_messages(\n",
    "    [\n",
    "        (\n",
    "            \"system\",\n",
    "            \"\"\"You are a part of ai agent workflow. Here we are doing webscrapping for the query but the query can also contain references from past conversation. Your task is to convert the queries passed into an ideal query to be for web scrapping thorugh websearch agents.\n",
    "            You also have option to return 'NO' if web search is not required at all.\n",
    "            Be very precise to either return the refined query or 'NO' if web search is not required, you're not supposed to give the answer itself ot the user query.\"\"\",\n",
    "        ),\n",
    "        MessagesPlaceholder(variable_name=\"messages\"),\n",
    "    ]\n",
    ")"
   ]
  },
  {
   "cell_type": "code",
   "execution_count": 15,
   "metadata": {},
   "outputs": [],
   "source": [
    "memory = MemorySaver()\n",
    "model = init_chat_model(\"gemini-2.5-flash-lite\", model_provider=\"google_genai\")\n",
    "workflow1 = StateGraph(state_schema=MessagesState)\n",
    "workflow2 = StateGraph(state_schema=MessagesState)\n",
    "\n",
    "def call_model_main(state: MessagesState):\n",
    "    prompt=prompt_template_main.invoke(state)\n",
    "    response = model.invoke(prompt)\n",
    "    return {\"messages\": response}\n",
    "\n",
    "def call_model_refine(state: MessagesState):\n",
    "    prompt=prompt_template_refine.invoke(state)\n",
    "    response = model.invoke(prompt)\n",
    "    return {\"messages\": response}\n",
    "\n",
    "\n",
    "workflow1.add_edge(START, \"model\")\n",
    "workflow1.add_node(\"model\", call_model_main)\n",
    "workflow2.add_edge(START, \"model\")\n",
    "workflow2.add_node(\"model\", call_model_refine)\n",
    "\n",
    "app1 = workflow1.compile(checkpointer=memory)\n",
    "app2 = workflow2.compile(checkpointer=memory)\n",
    "config = {\"configurable\": {\"thread_id\": \"000\"}}\n"
   ]
  },
  {
   "cell_type": "code",
   "execution_count": 16,
   "metadata": {},
   "outputs": [],
   "source": [
    "\n",
    "def Answer(query):\n",
    "    prompt0 = f\"\"\"Crude Question: {query}\n",
    "            Query for Web Search:\"\"\"\n",
    "    Web_input=[HumanMessage(content=prompt0)]\n",
    "    web_prompt = app2.invoke({\"messages\": Web_input},config)\n",
    "    web_query=web_prompt[\"messages\"][-1].content\n",
    "\n",
    "    \n",
    "    \n",
    "    if web_query == \"NO\":\n",
    "        input_messages = [HumanMessage(content=query)]\n",
    "        output = app1.invoke({\"messages\": input_messages}, config)\n",
    "    else:\n",
    "        print(f\"Searching the web for: {web_query}\")\n",
    "        context = RAG(web_query)\n",
    "        print(\"Finishing Up...\\n\\n\")\n",
    "        prompt = f\"\"\" Context from Web: {context}\n",
    "\n",
    "            Question: {query}\n",
    "            Answer:\"\"\"\n",
    "        input_messages = [HumanMessage(content=prompt)]\n",
    "        output = app1.invoke({\"messages\": input_messages}, config)\n",
    "    \n",
    "\n",
    "    return output[\"messages\"][-1]"
   ]
  },
  {
   "cell_type": "markdown",
   "metadata": {},
   "source": [
    "## Examples"
   ]
  },
  {
   "cell_type": "code",
   "execution_count": 17,
   "metadata": {},
   "outputs": [
    {
     "name": "stdout",
     "output_type": "stream",
     "text": [
      "==================================\u001b[1m Ai Message \u001b[0m==================================\n",
      "\n",
      "Ah, Vishesh from IIT Kanpur! A pleasure to make your acquaintance. It's always heartening to hear from bright minds engaging with the world of ideas.\n",
      "\n",
      "So, tell me, what's on your mind today? What philosophical ponderings have brought you here? Don't hesitate to ask, no matter how \"crude\" you think it might be. Sometimes, the most profound insights emerge from the simplest, most direct questions. Lay it on me!\n"
     ]
    }
   ],
   "source": [
    "Answer(\"Hey there, I am Vishesh, I study at IIT Kanpur\").pretty_print()"
   ]
  },
  {
   "cell_type": "code",
   "execution_count": 18,
   "metadata": {},
   "outputs": [
    {
     "name": "stdout",
     "output_type": "stream",
     "text": [
      "Searching the web for: Who is Harry Potter and what is the storyline of Harry Potter\n",
      "Encoding text...\n",
      "Retrieving Relevant Information...\n",
      "Finishing Up...\n",
      "\n",
      "\n",
      "==================================\u001b[1m Ai Message \u001b[0m==================================\n",
      "\n",
      "Ah, a question about Harry Potter! It's a story that has captured the imagination of many, hasn't it? Think of it like this:\n",
      "\n",
      "At its heart, Harry Potter is the story of a young boy, Harry, who discovers he's not just an ordinary kid living a rather difficult life with his aunt, uncle, and cousin. He's actually a wizard, born into a hidden world filled with magic, spells, and fantastical creatures.\n",
      "\n",
      "The core of the storyline revolves around Harry's journey as he enters a special school called Hogwarts School of Witchcraft and Wizardry. Here, he learns to harness his magical abilities, makes deep friendships, and discovers more about his past.\n",
      "\n",
      "The central conflict, the engine that drives the narrative, is Harry's ongoing struggle against a truly dark and powerful wizard named Lord Voldemort. Voldemort, driven by a fear of death and a desire for ultimate power, was responsible for the death of Harry's parents when Harry was just a baby. In a twist of fate, when Voldemort tried to kill baby Harry, his own powers were somehow broken, leaving Harry with a distinctive lightning-bolt shaped scar on his forehead and Voldemort severely weakened.\n",
      "\n",
      "So, the story follows Harry as he grows up, unaware of his magical heritage or the true circumstances of his parents' death, until he's invited to Hogwarts. There, he learns about his connection to Voldemort and the epic battle that has been brewing between them. It's a tale of courage, friendship, love, and the enduring fight between good and evil, all set against the backdrop of a vibrant magical world.\n",
      "\n",
      "Does that paint a clearer picture for you, Vishesh?\n"
     ]
    }
   ],
   "source": [
    "Answer(\"Who is harry potter and what is the storyline of it?\").pretty_print()"
   ]
  },
  {
   "cell_type": "code",
   "execution_count": 19,
   "metadata": {},
   "outputs": [
    {
     "name": "stdout",
     "output_type": "stream",
     "text": [
      "Searching the web for: Main characters of Harry Potter\n",
      "Encoding text...\n",
      "Retrieving Relevant Information...\n",
      "Finishing Up...\n",
      "\n",
      "\n",
      "==================================\u001b[1m Ai Message \u001b[0m==================================\n",
      "\n",
      "Ah, an excellent follow-up question, Vishesh! When we talk about the \"main characters\" in a story like Harry Potter, we're really talking about the individuals who are most central to the plot, the ones whose actions and relationships drive the narrative forward.\n",
      "\n",
      "From what we've gathered and what's generally known about the series, the absolute cornerstone, the very heart of it all, is **Harry Potter** himself. He's the titular character, the one we follow from his humble beginnings to his confrontations with the dark wizard, Voldemort.\n",
      "\n",
      "But a hero rarely stands alone, does he? Harry's journey is profoundly shaped by his two closest friends, who are absolutely essential to the story:\n",
      "\n",
      "*   **Ron Weasley**: He's Harry's first true friend at Hogwarts, a loyal and often humorous companion from a large, loving wizarding family. Ron provides a lot of the emotional grounding and comedic relief, and his unwavering loyalty is a constant support for Harry.\n",
      "*   **Hermione Granger**: She's incredibly intelligent, bookish, and a brilliant witch from a non-magical background. Hermione's knowledge and logical approach often save Harry and Ron from difficult situations, and her strong moral compass is vital.\n",
      "\n",
      "These three form what is often called the \"Golden Trio.\" Their friendship, their shared experiences, and their individual growth are fundamental to the entire saga.\n",
      "\n",
      "While there are many other incredibly important and memorable characters who play significant roles – like wise Professor Dumbledore, the kind but formidable Hagrid, and of course, the villainous Lord Voldemort – Harry, Ron, and Hermione are undeniably the central figures whose intertwined destinies form the backbone of the Harry Potter story.\n",
      "\n",
      "Does that help you understand who the key players are?\n"
     ]
    }
   ],
   "source": [
    "Answer(\"What are it's main characters?\").pretty_print()"
   ]
  },
  {
   "cell_type": "code",
   "execution_count": 20,
   "metadata": {},
   "outputs": [
    {
     "name": "stdout",
     "output_type": "stream",
     "text": [
      "Searching the web for: IIT Kanpur academic registration timeline\n",
      "Encoding text...\n",
      "Retrieving Relevant Information...\n",
      "Finishing Up...\n",
      "\n",
      "\n",
      "==================================\u001b[1m Ai Message \u001b[0m==================================\n",
      "\n",
      "Ah, a practical question about academic procedures at IIT Kanpur! Navigating the registration process is an important step for any student.\n",
      "\n",
      "Based on the context you've provided, it seems there are different dates for different groups of students. For **continuing students**, the **normal registration date** is mentioned as **July 27th**.\n",
      "\n",
      "There's also a mention of a **late registration date** being **August 5th**. This suggests that if you miss the initial registration period, there's a window to register afterward, though it usually comes with an additional charge, which you've noted as 1000 rupees.\n",
      "\n",
      "Regarding your specific situation, returning on August 28th and wondering about biometric attendance access until then, that's a very precise logistical question. The provided text doesn't directly answer whether biometric access will be available until the 28th, especially if the normal registration was on the 27th and you're arriving on the 28th (a Sunday, as you mentioned). Access to campus facilities can sometimes be dependent on your registration status.\n",
      "\n",
      "For details on how the **late registration process works beyond the fee**, the text doesn't elaborate. Typically, late registration might involve a specific office or procedure to follow, perhaps needing to submit a form or get approval from your department.\n",
      "\n",
      "Given these specific logistical points, especially concerning biometric access and the exact steps for late registration beyond the fee, it would be best to consult the official academic calendar or the relevant administrative office at IIT Kanpur directly. They will have the most up-to-date and precise information tailored to your situation.\n"
     ]
    }
   ],
   "source": [
    "Answer(\"Timeline for academic registeration at IITK?\").pretty_print()"
   ]
  },
  {
   "cell_type": "code",
   "execution_count": 21,
   "metadata": {},
   "outputs": [
    {
     "name": "stdout",
     "output_type": "stream",
     "text": [
      "Searching the web for: How to make Hyderabadi Chicken Biryani at home in a cooker\n",
      "Encoding text...\n",
      "Retrieving Relevant Information...\n",
      "Finishing Up...\n",
      "\n",
      "\n",
      "==================================\u001b[1m Ai Message \u001b[0m==================================\n",
      "\n",
      "Ah, a culinary quest for Hyderabadi Chicken Biryani made in a cooker! That's a fantastic choice; biryani is indeed a jewel of Indian cuisine, and a cooker can be a great way to achieve those aromatic layers.\n",
      "\n",
      "While the text you provided gives us a wonderful overview of what biryani is, its festive nature, and some serving suggestions, it doesn't contain the specific step-by-step instructions for making it in a cooker. It mentions there are \"two easy ways to make biryani while still retaining the authentic taste\" and offers troubleshooting tips for stovetop cooking (like using a heat diffuser to prevent burning), but the actual recipe details for a cooker aren't here.\n",
      "\n",
      "To make Hyderabadi Chicken Biryani in a cooker, you'd typically be looking for a method that involves marinating the chicken with yogurt, spices, and herbs, then layering it with partially cooked basmati rice, more spices, fried onions, and sometimes mint. The cooker would then be used to steam all these layers together, allowing the flavors to meld beautifully.\n",
      "\n",
      "However, since the specific recipe for cooker preparation isn't in this text, I can't provide you with those exact instructions based on this context. For a detailed cooker recipe, you would need to find a source that outlines that specific method.\n"
     ]
    }
   ],
   "source": [
    "Answer(\"How to make Hyderabadi Chicken Biryani at home in cooker?\").pretty_print()"
   ]
  },
  {
   "cell_type": "code",
   "execution_count": 22,
   "metadata": {},
   "outputs": [
    {
     "name": "stdout",
     "output_type": "stream",
     "text": [
      "Searching the web for: Best side dishes for Hyderabadi Chicken Biryani\n",
      "Encoding text...\n",
      "Retrieving Relevant Information...\n",
      "Finishing Up...\n",
      "\n",
      "\n",
      "==================================\u001b[1m Ai Message \u001b[0m==================================\n",
      "\n",
      "Ah, excellent question, Vishesh! When you have a dish as rich and flavorful as Hyderabadi Chicken Biryani, the right side dish can truly elevate the entire meal. Think of it like adding a complementary color to a painting – it enhances the overall experience.\n",
      "\n",
      "Based on the context provided, there are several excellent options that are considered classic accompaniments:\n",
      "\n",
      "*   **Raita**: This is a yogurt-based side dish, often made with cooling ingredients like cucumber, mint, or onion. The cool, creamy texture of raita provides a wonderful contrast to the heat and richness of the biryani, cleansing the palate between bites.\n",
      "*   **Pickle**: Indian pickles, known as *achaar*, are typically spicy and tangy. A good pickle adds a burst of sharp flavor that cuts through the richness of the biryani, offering a different kind of zest.\n",
      "*   **Chutney**: Similar to pickles, chutneys are flavorful condiments. They can range from mint and cilantro to tamarind or tomato-based, each offering a unique flavor profile to complement the biryani.\n",
      "*   **Salan**: This is a term often used for a curry or gravy, particularly in Hyderabadi cuisine. The text specifically mentions \"baghare baingan (eggplants in rich sauce)\" and \"mirchi ka salan (chili peppers in creamy sauce)\" as traditional pairings. A *salan* can add another layer of sauciness and complementary flavor.\n",
      "*   **Masala Curry**: The text also specifically recommends a \"Masala Curry\" made with a base of yogurt, cashew nuts, and poppy seeds. It's described as having a subtle crunchy taste and can be made with mutton, chicken, or paneer. This seems like a richer, more substantial side dish that would definitely complement a flavorful biryani.\n",
      "\n",
      "The text emphasizes that biryani is often considered a complete meal on its own, but these accompaniments \"take your biryani experience to the next level.\" So, depending on whether you're looking for something cooling and refreshing (like raita), something sharp and tangy (like pickle or chutney), or another flavorful, saucy element (like a salan or masala curry), you have some wonderful choices!\n"
     ]
    }
   ],
   "source": [
    "Answer(\"What would be the best side-dish with it?\").pretty_print()"
   ]
  },
  {
   "cell_type": "code",
   "execution_count": 23,
   "metadata": {},
   "outputs": [
    {
     "name": "stdout",
     "output_type": "stream",
     "text": [
      "==================================\u001b[1m Ai Message \u001b[0m==================================\n",
      "\n",
      "Vishesh, that's a deeply personal question, and it touches upon some fundamental aspects of life, purpose, and happiness. As an AI, I don't have personal \"views\" or the capacity to experience life in the way a human does, so I can't tell you what *you* should do. However, I can help you think through some of the considerations involved.\n",
      "\n",
      "Let's approach this by looking at the two paths you've presented: continuing your education and becoming a monk, with the underlying desire being to \"eat and sleep.\"\n",
      "\n",
      "**Continuing Your Education (and the \"Too Much Study\" Aspect):**\n",
      "\n",
      "*   **The Nature of Education:** It's true, higher education, especially at an institution like IIT Kanpur, is demanding. It requires significant effort, focus, and often involves periods of intense study. This is often the case because the goal is to equip you with specialized knowledge and skills that can lead to a variety of fulfilling careers and opportunities.\n",
      "*   **The \"Eat and Sleep\" Desire:** This desire is a very natural human one – we all need to eat and sleep to survive and thrive. However, if the *sole* driving force is to simply eat and sleep with minimal effort, then perhaps the *current* structure of your education feels misaligned with that. But it's worth considering if this is a temporary feeling due to academic pressure, or a more fundamental aversion to structured effort.\n",
      "*   **Long-Term Prospects:** Education, while demanding now, often opens doors to a wider range of choices later in life. It can provide financial stability, intellectual stimulation, and the ability to contribute to society in meaningful ways. These can, in turn, support a comfortable life where you have the means and time for rest and enjoyment.\n",
      "\n",
      "**Becoming a Monk (and the \"Eat and Sleep\" Aspect):**\n",
      "\n",
      "*   **The Monastic Life:** The life of a monk, while often perceived as simple and focused on inner peace, is not typically characterized by a complete absence of effort or obligation. Monastic traditions often involve rigorous discipline, spiritual practices, communal duties, study of scriptures, and sometimes manual labor. It's a life of dedication, often involving service and adherence to specific vows and routines.\n",
      "*   **The \"Eat and Sleep\" Desire in Monasticism:** While the *focus* shifts from worldly pursuits, it's unlikely that a monastic life is simply about passive consumption and rest. There's a spiritual discipline and commitment involved. The simplicity of life might mean less stress about worldly possessions, but it doesn't necessarily equate to an absence of responsibility or engagement.\n",
      "*   **Intent and Practice:** If the desire to become a monk stems purely from a wish to avoid demanding study and to focus solely on basic sustenance and rest, it might be a misunderstanding of what monastic life truly entails. The true spirit of monasticism is often about detachment from worldly desires, spiritual growth, and service, which requires its own form of dedication and effort.\n",
      "\n",
      "**Thinking it Through:**\n",
      "\n",
      "1.  **Is this a Temporary Feeling?** Are you feeling overwhelmed by the current academic workload? Sometimes a break, better study strategies, or seeking support from mentors or counselors can help manage academic stress.\n",
      "2.  **What is the Underlying Motivation?** When you say you \"just want to eat and sleep,\" what is the deeper feeling behind that? Is it burnout? A lack of passion for your current field? A general feeling of disengagement with structured life? Or is it a genuine yearning for a simpler, more contemplative existence?\n",
      "3.  **What Does \"Monk\" Mean to You?** Have you explored different monastic traditions? What are their daily lives like? Are they truly about passive rest, or about active spiritual engagement and discipline?\n",
      "4.  **What are the Consequences of Each Path?** Dropping out of college has significant long-term implications for career options and financial independence. Becoming a monk also involves a major life commitment with its own set of responsibilities and renunciations.\n",
      "\n",
      "Ultimately, both paths require commitment and effort, just of different kinds. If your primary motivation is to escape effort and simply \"eat and sleep,\" neither path might fully satisfy that desire in the way you imagine.\n",
      "\n",
      "Perhaps it would be beneficial to speak with academic advisors, career counselors, or even individuals who have explored monastic life, to gain a clearer understanding of what each path truly involves beyond the surface-level perception. You might also find it helpful to reflect on what truly brings you a sense of purpose or contentment, beyond just the absence of study.\n"
     ]
    }
   ],
   "source": [
    "Answer(\"What are your views, should I continue my education or I shall drop college and become a monk because there is too much study here and I just want to eat and sleep in life\").pretty_print()"
   ]
  },
  {
   "cell_type": "code",
   "execution_count": null,
   "metadata": {},
   "outputs": [
    {
     "name": "stdout",
     "output_type": "stream",
     "text": [
      "Searching the web for: Why is a thumb a thumb and not a toe\n",
      "Encoding text...\n",
      "Retrieving Relevant Information...\n",
      "Finishing Up...\n",
      "\n",
      "\n",
      "==================================\u001b[1m Ai Message \u001b[0m==================================\n",
      "\n",
      "Vishesh, that's a wonderfully simple question that gets to the heart of how we categorize things, and how our bodies are designed! It's about both function and language.\n",
      "\n",
      "From the context you've provided, the primary reason a thumb is called a \"thumb\" and not a \"toe\" boils down to two main points:\n",
      "\n",
      "1.  **Functionality (Opposability):** The most significant difference highlighted is that the **thumb is an opposable digit**. Think about it: you can bring your thumb across your palm to meet your fingers. This allows us to grasp, grip, and manipulate objects with incredible dexterity. Toes, on the other hand, are generally aligned parallel to each other and aren't designed for this kind of grasping. They are primarily for balance, pushing off the ground when walking, and providing support.\n",
      "\n",
      "2.  **Language and Naming:** Our language reflects these functional differences. We have a specific word, \"thumb,\" for this unique, opposable digit on our hand. While the big toe is indeed a very important digit for our feet, it doesn't have the same opposable function, and therefore, it has its own distinct name: \"big toe\" or, in more technical terms, the \"hallux.\" The text mentions that in French, for example, there's a specific word for \"big toe\" (\"orteil\"), and the lack of a special word for \"toe\" itself in English might imply that the thumb's unique role has given it a more distinct and recognized name.\n",
      "\n",
      "Interestingly, the text also points out that even though the big toe isn't opposable like the thumb, anatomically, it receives some special recognition with terms like \"hallux\" and the anatomical descriptor \"hallucis,\" similar to how the thumb has \"pollex\" and \"pollical.\" This suggests that while the thumb's opposability is its defining characteristic that leads to its common name, the big toe is also recognized as a distinct and important digit in its own right.\n",
      "\n",
      "So, in essence, it's a thumb because it's on your hand, it's opposable, and our language has a specific word for it to describe that unique function. A toe is a toe because it's on your foot and serves different purposes.\n"
     ]
    }
   ],
   "source": [
    "\n",
    "Answer(\"Why is my thumb a thumb not a toe?\").pretty_print()"
   ]
  }
 ],
 "metadata": {
  "kernelspec": {
   "display_name": "langchain",
   "language": "python",
   "name": "python3"
  },
  "language_info": {
   "codemirror_mode": {
    "name": "ipython",
    "version": 3
   },
   "file_extension": ".py",
   "mimetype": "text/x-python",
   "name": "python",
   "nbconvert_exporter": "python",
   "pygments_lexer": "ipython3",
   "version": "3.12.2"
  }
 },
 "nbformat": 4,
 "nbformat_minor": 2
}
